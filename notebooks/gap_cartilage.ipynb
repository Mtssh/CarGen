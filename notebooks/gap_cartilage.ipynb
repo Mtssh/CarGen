{
 "cells": [
  {
   "cell_type": "markdown",
   "metadata": {},
   "source": [
    "# Automated gap cartilage generation <a class=\"tocSkip\"> \n",
    "This notebook explains a method to automatically generate the hj geometry based on the bone geometries"
   ]
  },
  {
   "cell_type": "markdown",
   "metadata": {},
   "source": [
    "# imports"
   ]
  },
  {
   "cell_type": "code",
   "execution_count": 1,
   "metadata": {},
   "outputs": [],
   "source": [
    "import numpy as np\n",
    "import meshplot as mp\n",
    "import pathlib\n",
    "import sys\n",
    "sys.path.append('../')\n",
    "import cargen\n",
    "import os"
   ]
  },
  {
   "cell_type": "code",
   "execution_count": 2,
   "metadata": {
    "scrolled": true
   },
   "outputs": [],
   "source": [
    "\"\"\"\n",
    "DIRECTORIES:\n",
    "\"\"\"\n",
    "main_dir = pathlib.Path('..')\n",
    "\n",
    "# input and output paths\n",
    "i_dir = main_dir / 'models'\n",
    "o_dir = main_dir / 'output'\n",
    "\n",
    "# Remove all files inside output directory if it exists, otherwise create it\n",
    "if o_dir.is_dir():\n",
    "    for file in o_dir.iterdir():\n",
    "        if file.is_file():\n",
    "            file.unlink()\n",
    "else:\n",
    "    o_dir.mkdir(exist_ok=False)"
   ]
  },
  {
   "cell_type": "code",
   "execution_count": 3,
   "metadata": {},
   "outputs": [],
   "source": [
    "\"\"\"\n",
    "VALUES:\n",
    "\n",
    "i_dim, o_dim = input and output dimension (\"mm\" = millimeters, \"m\" = meters)\n",
    "i_format = the format of the input surface mesh ( \".obj\" , \".stl\")\n",
    "o_format = format you want the files to be save at ( \".obj\" , \".stl\")\n",
    "+ scroll down to calibrate the cartilage generation parameters\n",
    "\"\"\"\n",
    "# dimensions \n",
    "i_dim  = \"mm\"     \n",
    "o_dim  = \"mm\"\n",
    "\n",
    "i_format = \".stl\"\n",
    "o_format = \".obj\""
   ]
  },
  {
   "cell_type": "code",
   "execution_count": 4,
   "metadata": {},
   "outputs": [],
   "source": [
    "\"\"\"\n",
    "NAMES & PATHS:\n",
    "\"\"\"\n",
    "# bones\n",
    "sacrum_name = 'sacrum'\n",
    "lpelvis_name  = 'lpelvis' \n",
    "\n",
    "# cartilages\n",
    "lsi_name = 'lsi'\n",
    "\n",
    "#bones \n",
    "clean_sacrum_name  = 'clean_' + sacrum_name  + '_'+ o_dim\n",
    "clean_lpelvis_name = 'clean_' + lpelvis_name + '_'+ o_dim\n",
    "\n",
    "#cartilages\n",
    "lsi_cart_name = lsi_name +'_cart_'+ o_dim\n",
    "lsi_ring_name = lsi_name +'_ring_'+ o_dim\n",
    "\n",
    "# input paths\n",
    "sacrum_path  = str((i_dir/ sacrum_name).with_suffix(i_format))\n",
    "lpelvis_path = str((i_dir/ lpelvis_name).with_suffix(i_format))\n",
    "\n",
    "# output paths\n",
    "#bones\n",
    "clean_sacrum_path = str((o_dir/ clean_sacrum_name).with_suffix(o_format))\n",
    "clean_lpelvis_path  = str((o_dir/ clean_lpelvis_name).with_suffix(o_format))\n",
    "\n",
    "#cartilage\n",
    "lsi_cart_path  = str((o_dir/ lsi_cart_name).with_suffix(o_format))\n",
    "lsi_ring_path  = str((o_dir/ lsi_ring_name).with_suffix(o_format))"
   ]
  },
  {
   "cell_type": "markdown",
   "metadata": {},
   "source": [
    "# implementation"
   ]
  },
  {
   "cell_type": "markdown",
   "metadata": {},
   "source": [
    "## read and clean up input"
   ]
  },
  {
   "cell_type": "code",
   "execution_count": 5,
   "metadata": {
    "scrolled": true
   },
   "outputs": [
    {
     "name": "stdout",
     "output_type": "stream",
     "text": [
      "number of triangles after cleaning 54902\n",
      "number of triangles after cleaning 69466\n"
     ]
    }
   ],
   "source": [
    "s1_vertices, s1_faces  = cargen.read_and_clean ( sacrum_path, i_dim )\n",
    "s2_vertices, s2_faces  = cargen.read_and_clean ( lpelvis_path, i_dim ) "
   ]
  },
  {
   "cell_type": "code",
   "execution_count": 6,
   "metadata": {},
   "outputs": [
    {
     "data": {
      "application/vnd.jupyter.widget-view+json": {
       "model_id": "7c4fe5ebe992431d88e1ea9709013394",
       "version_major": 2,
       "version_minor": 0
      },
      "text/plain": [
       "Renderer(camera=PerspectiveCamera(children=(DirectionalLight(color='white', intensity=0.6, position=(4.9283256…"
      ]
     },
     "metadata": {},
     "output_type": "display_data"
    },
    {
     "data": {
      "text/plain": [
       "1"
      ]
     },
     "execution_count": 6,
     "metadata": {},
     "output_type": "execute_result"
    }
   ],
   "source": [
    "frame = mp.plot( s1_vertices, s1_faces, c = cargen.bone, shading = cargen.sh_false )\n",
    "frame.add_mesh ( s2_vertices, s2_faces, c = cargen.bone, shading = cargen.sh_false )"
   ]
  },
  {
   "cell_type": "markdown",
   "metadata": {},
   "source": [
    "## left sacro-iliac joint"
   ]
  },
  {
   "cell_type": "code",
   "execution_count": 7,
   "metadata": {
    "scrolled": false
   },
   "outputs": [
    {
     "data": {
      "image/png": "[encoded data removed]",
      "text/plain": [
       "<Figure size 640x480 with 1 Axes>"
      ]
     },
     "metadata": {},
     "output_type": "display_data"
    },
    {
     "data": {
      "application/vnd.jupyter.widget-view+json": {
       "model_id": "8a21afb8f61a44a092eefb63288d7e47",
       "version_major": 2,
       "version_minor": 0
      },
      "text/plain": [
       "Renderer(camera=PerspectiveCamera(children=(DirectionalLight(color='white', intensity=0.6, position=(4.9283256…"
      ]
     },
     "metadata": {},
     "output_type": "display_data"
    },
    {
     "name": "stdout",
     "output_type": "stream",
     "text": [
      "Base layer: max dihedral angle before smoothing is  0.56 radians ( 32.09 degrees).\n"
     ]
    },
    {
     "data": {
      "application/vnd.jupyter.widget-view+json": {
       "model_id": "16499c74624d4c34b81404ae93652422",
       "version_major": 2,
       "version_minor": 0
      },
      "text/plain": [
       "Renderer(camera=PerspectiveCamera(children=(DirectionalLight(color='white', intensity=0.6, position=(4.9283256…"
      ]
     },
     "metadata": {},
     "output_type": "display_data"
    },
    {
     "name": "stdout",
     "output_type": "stream",
     "text": [
      "Base layer: max dihedral angle after smoothing is  0.66 radians ( 37.82 degrees).\n"
     ]
    },
    {
     "data": {
      "application/vnd.jupyter.widget-view+json": {
       "model_id": "96394a24c2be48df9d32be3ec6d65a78",
       "version_major": 2,
       "version_minor": 0
      },
      "text/plain": [
       "Renderer(camera=PerspectiveCamera(children=(DirectionalLight(color='white', intensity=0.6, position=(4.9365901…"
      ]
     },
     "metadata": {},
     "output_type": "display_data"
    },
    {
     "name": "stdout",
     "output_type": "stream",
     "text": [
      "Quality control results for the base layer: \n",
      "\n",
      "Everything is clean in the base layer. we will now continue to extrusion step:\n",
      "\n",
      "Extruded layer: max dihedral angle before smoothing is  0.82 radians ( 46.98 degrees).\n"
     ]
    },
    {
     "data": {
      "application/vnd.jupyter.widget-view+json": {
       "model_id": "577429d83fa64bd9a2f69fcb8f202c68",
       "version_major": 2,
       "version_minor": 0
      },
      "text/plain": [
       "Renderer(camera=PerspectiveCamera(children=(DirectionalLight(color='white', intensity=0.6, position=(-44.39503…"
      ]
     },
     "metadata": {},
     "output_type": "display_data"
    },
    {
     "name": "stdout",
     "output_type": "stream",
     "text": [
      "Extruded layer: max dihedral angle after smoothing is 1.53 radians ( 87.66 degrees).\n"
     ]
    },
    {
     "data": {
      "application/vnd.jupyter.widget-view+json": {
       "model_id": "313f258e70924e0ab5463d4bd8890533",
       "version_major": 2,
       "version_minor": 0
      },
      "text/plain": [
       "Renderer(camera=PerspectiveCamera(children=(DirectionalLight(color='white', intensity=0.6, position=(-44.38113…"
      ]
     },
     "metadata": {},
     "output_type": "display_data"
    },
    {
     "name": "stdout",
     "output_type": "stream",
     "text": [
      "Quality control results  for the extruded layer: \n",
      "\n",
      "Everything is clean in the extruded base layer. We will now continue to create the roof.\n",
      "\n"
     ]
    },
    {
     "data": {
      "application/vnd.jupyter.widget-view+json": {
       "model_id": "9e6f58569eb24bd2a0c95a2f14097d44",
       "version_major": 2,
       "version_minor": 0
      },
      "text/plain": [
       "Renderer(camera=PerspectiveCamera(children=(DirectionalLight(color='white', intensity=0.6, position=(4.9283256…"
      ]
     },
     "metadata": {},
     "output_type": "display_data"
    },
    {
     "data": {
      "application/vnd.jupyter.widget-view+json": {
       "model_id": "072afa9f476f4634aa43168908c62f18",
       "version_major": 2,
       "version_minor": 0
      },
      "text/plain": [
       "Renderer(camera=PerspectiveCamera(children=(DirectionalLight(color='white', intensity=0.6, position=(-44.38113…"
      ]
     },
     "metadata": {},
     "output_type": "display_data"
    },
    {
     "data": {
      "application/vnd.jupyter.widget-view+json": {
       "model_id": "9606881bf6b049488cd499f415e5edd2",
       "version_major": 2,
       "version_minor": 0
      },
      "text/plain": [
       "Renderer(camera=PerspectiveCamera(children=(DirectionalLight(color='white', intensity=0.6, position=(-43.02504…"
      ]
     },
     "metadata": {},
     "output_type": "display_data"
    },
    {
     "data": {
      "application/vnd.jupyter.widget-view+json": {
       "model_id": "fcd8f01c90f74acb9f3d7a3d593cec8b",
       "version_major": 2,
       "version_minor": 0
      },
      "text/plain": [
       "Renderer(camera=PerspectiveCamera(children=(DirectionalLight(color='white', intensity=0.6, position=(4.9365901…"
      ]
     },
     "metadata": {},
     "output_type": "display_data"
    },
    {
     "name": "stdout",
     "output_type": "stream",
     "text": [
      "cartilage base area is:  2556.62\n",
      "mean cartilage thickness is:  2.94\n",
      "maximum cartilage thickness is:  4.48\n"
     ]
    }
   ],
   "source": [
    "# set the parameters\n",
    "param = cargen.Var()\n",
    "\n",
    "# change the ones you like\n",
    "param.gap_distance = 4.6\n",
    "param.trimming_iteration = 1\n",
    "param.smoothing_iteration_base = 5\n",
    "param.thickness_factor = 1\n",
    "param.smoothing_iteration_extruded_base = 2\n",
    "\n",
    "# make it\n",
    "lsi_vertices, lsi_faces, ring_vertices, ring_faces = cargen.get_gap_cartilage(s1_vertices, s1_faces, \n",
    "                                                                              s2_vertices, s2_faces,\n",
    "                                                                              param)\n",
    "\n",
    "\n",
    "# reset the parameters to default values\n",
    "param.reset()\n"
   ]
  },
  {
   "cell_type": "markdown",
   "metadata": {},
   "source": [
    "## export results"
   ]
  },
  {
   "cell_type": "markdown",
   "metadata": {},
   "source": [
    "### cartilage"
   ]
  },
  {
   "cell_type": "code",
   "execution_count": 8,
   "metadata": {},
   "outputs": [],
   "source": [
    "cargen.save_surface ( lsi_vertices, lsi_faces, o_dim, lsi_cart_path )\n",
    "cargen.save_surface ( ring_vertices, ring_faces, o_dim, lsi_ring_path )"
   ]
  },
  {
   "cell_type": "markdown",
   "metadata": {},
   "source": [
    "### cleaned bones"
   ]
  },
  {
   "cell_type": "code",
   "execution_count": 9,
   "metadata": {},
   "outputs": [],
   "source": [
    "cargen.save_surface ( s1_vertices, s1_faces, o_dim, clean_sacrum_path )\n",
    "cargen.save_surface ( s2_vertices, s2_faces, o_dim, clean_lpelvis_path)"
   ]
  },
  {
   "cell_type": "markdown",
   "metadata": {},
   "source": [
    "# voila!"
   ]
  },
  {
   "cell_type": "code",
   "execution_count": 10,
   "metadata": {
    "scrolled": false
   },
   "outputs": [
    {
     "data": {
      "application/vnd.jupyter.widget-view+json": {
       "model_id": "f460ff938f9844a18fad4890ec21a9a4",
       "version_major": 2,
       "version_minor": 0
      },
      "text/plain": [
       "Renderer(camera=PerspectiveCamera(children=(DirectionalLight(color='white', intensity=0.6, position=(4.9348888…"
      ]
     },
     "metadata": {},
     "output_type": "display_data"
    },
    {
     "data": {
      "text/plain": [
       "2"
      ]
     },
     "execution_count": 10,
     "metadata": {},
     "output_type": "execute_result"
    }
   ],
   "source": [
    "frame = mp.plot( s1_vertices, s1_faces, c = cargen.bone,  shading = cargen.sh_false )\n",
    "frame.add_mesh ( s2_vertices,  s2_faces,  c = cargen.bone, shading = cargen.sh_false )\n",
    "frame.add_mesh ( ring_vertices, ring_faces,  c = cargen.pastel_orange, shading = cargen.sh_true )"
   ]
  },
  {
   "cell_type": "markdown",
   "metadata": {},
   "source": [
    "# check self intersection in tetgen"
   ]
  },
  {
   "cell_type": "code",
   "execution_count": 11,
   "metadata": {},
   "outputs": [
    {
     "data": {
      "text/plain": [
       "0"
      ]
     },
     "execution_count": 11,
     "metadata": {},
     "output_type": "execute_result"
    }
   ],
   "source": [
    "lsi_cart_test  = str((o_dir/ lsi_cart_name).with_suffix('.stl'))\n",
    "cargen.save_surface ( lsi_vertices, lsi_faces, o_dim, lsi_cart_test )\n",
    "os.system ( 'tetgen -d '+ lsi_cart_test )"
   ]
  }
 ],
 "metadata": {
  "kernelspec": {
   "display_name": "Python 3",
   "language": "python",
   "name": "python3"
  },
  "language_info": {
   "codemirror_mode": {
    "name": "ipython",
    "version": 3
   },
   "file_extension": ".py",
   "mimetype": "text/x-python",
   "name": "python",
   "nbconvert_exporter": "python",
   "pygments_lexer": "ipython3",
   "version": "3.9.6"
  },
  "toc": {
   "base_numbering": 1,
   "nav_menu": {},
   "number_sections": true,
   "sideBar": true,
   "skip_h1_title": false,
   "title_cell": "Table of Contents",
   "title_sidebar": "Contents",
   "toc_cell": false,
   "toc_position": {
    "height": "calc(100% - 180px)",
    "left": "10px",
    "top": "150px",
    "width": "209px"
   },
   "toc_section_display": true,
   "toc_window_display": true
  }
 },
 "nbformat": 4,
 "nbformat_minor": 4
}
