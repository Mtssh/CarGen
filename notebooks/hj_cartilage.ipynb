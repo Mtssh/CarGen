{
 "cells": [
  {
   "cell_type": "markdown",
   "metadata": {},
   "source": [
    "# Automated hip joint cartilage generation <a class=\"tocSkip\"> \n",
    "This notebook explains a method to automatically generate a hj geometry based on the bone geometries"
   ]
  },
  {
   "cell_type": "markdown",
   "metadata": {},
   "source": [
    "# imports"
   ]
  },
  {
   "cell_type": "code",
   "execution_count": 1,
   "metadata": {},
   "outputs": [],
   "source": [
    "import numpy as np\n",
    "import meshplot as mp\n",
    "from pathlib import Path\n",
    "import sys\n",
    "sys.path.append('../')\n",
    "import os\n",
    "import cargen"
   ]
  },
  {
   "cell_type": "code",
   "execution_count": 2,
   "metadata": {},
   "outputs": [],
   "source": [
    "\"\"\"\n",
    "DIRECTORIES:\n",
    "\"\"\"\n",
    "main_dir = Path('..')\n",
    "\n",
    "# input and output paths\n",
    "i_dir = main_dir / 'models'\n",
    "o_dir = main_dir / 'output'\n",
    "\n",
    "# Remove all files inside output directory if it exists, otherwise create it\n",
    "if o_dir.is_dir():\n",
    "    for file in o_dir.iterdir():\n",
    "        if file.is_file():\n",
    "            file.unlink()\n",
    "else:\n",
    "    o_dir.mkdir(exist_ok=False)"
   ]
  },
  {
   "cell_type": "code",
   "execution_count": 3,
   "metadata": {
    "scrolled": true
   },
   "outputs": [],
   "source": [
    "\"\"\"\n",
    "VALUES:\n",
    "\n",
    "i_dim, o_dim = input and output dimension (\"mm\" = millimeters, \"m\" = meters)\n",
    "i_format = the format of the input surface mesh ( \".obj\" , \".stl\")\n",
    "o_format = format you want the files to be save at ( \".obj\" , \".stl\")\n",
    "+ scroll down to calibrate the cartilage generation parameters\n",
    "\"\"\"\n",
    "# dimensions \n",
    "i_dim  = \"mm\"     \n",
    "o_dim  = \"mm\"\n",
    "\n",
    "i_format = \".stl\"\n",
    "o_format = \".obj\""
   ]
  },
  {
   "cell_type": "code",
   "execution_count": 4,
   "metadata": {},
   "outputs": [],
   "source": [
    "\"\"\"\n",
    "NAMES & PATHS:\n",
    "\"\"\"\n",
    "# bones\n",
    "lpelvis_name = 'lpelvis'\n",
    "lfemur_name  = 'lfemur' \n",
    "\n",
    "# cartilages\n",
    "lpelvic_name = 'lpelvic'\n",
    "lfemoral_name = 'lfemoral'\n",
    "\n",
    "#bones \n",
    "clean_lpelvis_name = 'clean_' + lpelvis_name + '_'+ o_dim\n",
    "clean_lfemur_name  = 'clean_' + lfemur_name  + '_'+ o_dim\n",
    "\n",
    "#cartilages\n",
    "lpelvic_cart_name = lpelvic_name +'_cart_'+ o_dim\n",
    "lpelvic_top_name  = lpelvic_name +'_top_' + o_dim\n",
    "\n",
    "lfemoral_cart_name = lfemoral_name +'_cart_'+ o_dim\n",
    "lfemoral_top_name  = lfemoral_name +'_top_' + o_dim\n",
    "\n",
    "# input paths\n",
    "lpelvis_path = str((i_dir/ lpelvis_name).with_suffix(i_format))\n",
    "lfemur_path  = str((i_dir/ lfemur_name).with_suffix(i_format))\n",
    "\n",
    "# output paths\n",
    "#bones\n",
    "clean_lpelvis_path = str((o_dir/ clean_lpelvis_name).with_suffix(o_format))\n",
    "clean_lfemur_path  = str((o_dir/ clean_lfemur_name).with_suffix(o_format))\n",
    "\n",
    "#cartilage\n",
    "lpelvic_cart_path  = str((o_dir/ lpelvic_cart_name).with_suffix(o_format))\n",
    "lpelvic_top_path   = str((o_dir/ lpelvic_top_name).with_suffix(o_format))\n",
    "\n",
    "lfemoral_cart_path = str((o_dir/ lfemoral_cart_name).with_suffix(o_format))\n",
    "lfemoral_top_path  = str((o_dir/ lfemoral_top_name).with_suffix(o_format))"
   ]
  },
  {
   "cell_type": "markdown",
   "metadata": {},
   "source": [
    "# implementation"
   ]
  },
  {
   "cell_type": "markdown",
   "metadata": {},
   "source": [
    "## read and clean up input"
   ]
  },
  {
   "cell_type": "code",
   "execution_count": 5,
   "metadata": {
    "scrolled": true
   },
   "outputs": [
    {
     "name": "stdout",
     "output_type": "stream",
     "text": [
      "number of triangles after cleaning 69466\n",
      "number of triangles after cleaning 55600\n"
     ]
    }
   ],
   "source": [
    "s1_vertices, s1_faces  = cargen.read_and_clean ( lpelvis_path, i_dim ) \n",
    "s2_vertices, s2_faces  = cargen.read_and_clean ( lfemur_path, i_dim )"
   ]
  },
  {
   "cell_type": "code",
   "execution_count": 6,
   "metadata": {
    "scrolled": false
   },
   "outputs": [
    {
     "data": {
      "application/vnd.jupyter.widget-view+json": {
       "model_id": "e68516a105b8495991be3ed19a88357f",
       "version_major": 2,
       "version_minor": 0
      },
      "text/plain": [
       "Renderer(camera=PerspectiveCamera(children=(DirectionalLight(color='white', intensity=0.6, position=(-71.74111…"
      ]
     },
     "metadata": {},
     "output_type": "display_data"
    },
    {
     "data": {
      "text/plain": [
       "1"
      ]
     },
     "execution_count": 6,
     "metadata": {},
     "output_type": "execute_result"
    }
   ],
   "source": [
    "frame = mp.plot( s1_vertices, s1_faces, c = cargen.bone, shading = cargen.sh_false )\n",
    "frame.add_mesh ( s2_vertices, s2_faces, c = cargen.bone, shading = cargen.sh_false )"
   ]
  },
  {
   "cell_type": "markdown",
   "metadata": {},
   "source": [
    "## left femoral cartilage"
   ]
  },
  {
   "cell_type": "code",
   "execution_count": 7,
   "metadata": {
    "scrolled": false
   },
   "outputs": [
    {
     "data": {
      "image/png": "[encoded data removed]",
      "text/plain": [
       "<Figure size 640x480 with 1 Axes>"
      ]
     },
     "metadata": {},
     "output_type": "display_data"
    },
    {
     "data": {
      "application/vnd.jupyter.widget-view+json": {
       "model_id": "4dd74b4d8e9e4a3aabbaae3bc34bd150",
       "version_major": 2,
       "version_minor": 0
      },
      "text/plain": [
       "Renderer(camera=PerspectiveCamera(children=(DirectionalLight(color='white', intensity=0.6, position=(-103.9878…"
      ]
     },
     "metadata": {},
     "output_type": "display_data"
    },
    {
     "data": {
      "application/vnd.jupyter.widget-view+json": {
       "model_id": "61770feda2614ee7b96c8be34f001aaa",
       "version_major": 2,
       "version_minor": 0
      },
      "text/plain": [
       "Renderer(camera=PerspectiveCamera(children=(DirectionalLight(color='white', intensity=0.6, position=(-103.9878…"
      ]
     },
     "metadata": {},
     "output_type": "display_data"
    },
    {
     "data": {
      "application/vnd.jupyter.widget-view+json": {
       "model_id": "221b7aa7c6c646549558b39debc1c139",
       "version_major": 2,
       "version_minor": 0
      },
      "text/plain": [
       "Renderer(camera=PerspectiveCamera(children=(DirectionalLight(color='white', intensity=0.6, position=(-85.12970…"
      ]
     },
     "metadata": {},
     "output_type": "display_data"
    },
    {
     "name": "stdout",
     "output_type": "stream",
     "text": [
      "cartilage area is:  5890.81\n",
      "mean cartilage thickness is:  0.84\n",
      "maximum cartilage thickness is:  2.03\n"
     ]
    }
   ],
   "source": [
    "# set the parameters\n",
    "param = cargen.Var()  \n",
    "\n",
    "# make it\n",
    "s2_cart_vertices, s2_cart_faces, s2c_top_vertices, s2c_top_faces,  = cargen.get_hj_cartilage ( s2_vertices, s2_faces, s1_vertices, s1_faces, param )\n",
    "\n",
    "# reset the parameters to default values\n",
    "param.reset()"
   ]
  },
  {
   "cell_type": "markdown",
   "metadata": {},
   "source": [
    "## left pelvic cartilage"
   ]
  },
  {
   "cell_type": "code",
   "execution_count": 8,
   "metadata": {
    "scrolled": false
   },
   "outputs": [
    {
     "data": {
      "image/png": "[encoded data removed]",
      "text/plain": [
       "<Figure size 640x480 with 1 Axes>"
      ]
     },
     "metadata": {},
     "output_type": "display_data"
    },
    {
     "data": {
      "application/vnd.jupyter.widget-view+json": {
       "model_id": "a2671c912c6a44058fefaa3948e29476",
       "version_major": 2,
       "version_minor": 0
      },
      "text/plain": [
       "Renderer(camera=PerspectiveCamera(children=(DirectionalLight(color='white', intensity=0.6, position=(-71.74111…"
      ]
     },
     "metadata": {},
     "output_type": "display_data"
    },
    {
     "data": {
      "application/vnd.jupyter.widget-view+json": {
       "model_id": "6483862b7b0e44ae9af34d025b68dca5",
       "version_major": 2,
       "version_minor": 0
      },
      "text/plain": [
       "Renderer(camera=PerspectiveCamera(children=(DirectionalLight(color='white', intensity=0.6, position=(-71.74111…"
      ]
     },
     "metadata": {},
     "output_type": "display_data"
    },
    {
     "data": {
      "application/vnd.jupyter.widget-view+json": {
       "model_id": "8197de9be1cc460a849f6f335e6fbda6",
       "version_major": 2,
       "version_minor": 0
      },
      "text/plain": [
       "Renderer(camera=PerspectiveCamera(children=(DirectionalLight(color='white', intensity=0.6, position=(-81.08628…"
      ]
     },
     "metadata": {},
     "output_type": "display_data"
    },
    {
     "name": "stdout",
     "output_type": "stream",
     "text": [
      "cartilage area is:  3122.03\n",
      "mean cartilage thickness is:  0.99\n",
      "maximum cartilage thickness is:  2.06\n"
     ]
    }
   ],
   "source": [
    "# set the parameters\n",
    "param = cargen.Var()  \n",
    "param.trimming_iteration = 2\n",
    "param.extend_cartilage_flag   = False\n",
    "param.curve_info              = False\n",
    "param.no_extend_trimming_iteration = 2\n",
    "\n",
    "# make it\n",
    "s1_cart_vertices, s1_cart_faces, s1c_top_vertices, s1c_top_faces = cargen.get_hj_cartilage ( s1_vertices, s1_faces, s2_vertices, s2_faces, param ) \n",
    "\n",
    "# reset the parameters to default values\n",
    "param.reset()"
   ]
  },
  {
   "cell_type": "markdown",
   "metadata": {},
   "source": [
    "## remove cartilage-cartilage penetration and measure contact area "
   ]
  },
  {
   "cell_type": "code",
   "execution_count": 9,
   "metadata": {},
   "outputs": [
    {
     "data": {
      "application/vnd.jupyter.widget-view+json": {
       "model_id": "91b38cb195464cef91b22618d4b38a03",
       "version_major": 2,
       "version_minor": 0
      },
      "text/plain": [
       "Renderer(camera=PerspectiveCamera(children=(DirectionalLight(color='white', intensity=0.6, position=(-85.12970…"
      ]
     },
     "metadata": {},
     "output_type": "display_data"
    },
    {
     "name": "stdout",
     "output_type": "stream",
     "text": [
      "contact surface area is:  2017.01\n"
     ]
    }
   ],
   "source": [
    "s2_cart_vertices = cargen.remove_penetration(s2_cart_vertices, s1_cart_vertices, s1_cart_faces)\n",
    "s2c_top_vertices = cargen.remove_penetration(s2c_top_vertices, s1c_top_vertices, s1c_top_faces)\n",
    "\n",
    "cargen.contact_surface(s2c_top_vertices, s2c_top_faces, s1c_top_vertices, s1c_top_faces, 0.07 )"
   ]
  },
  {
   "cell_type": "markdown",
   "metadata": {},
   "source": [
    "## export results"
   ]
  },
  {
   "cell_type": "markdown",
   "metadata": {},
   "source": [
    "### cartilages"
   ]
  },
  {
   "cell_type": "code",
   "execution_count": 10,
   "metadata": {},
   "outputs": [],
   "source": [
    "cargen.save_surface ( s2_cart_vertices, s2_cart_faces, o_dim, lfemoral_cart_path )\n",
    "cargen.save_surface ( s2c_top_vertices, s2c_top_faces, o_dim, lfemoral_top_path )\n",
    "cargen.save_surface ( s1_cart_vertices, s1_cart_faces, o_dim, lpelvic_cart_path)\n",
    "cargen.save_surface ( s1c_top_vertices, s1c_top_faces, o_dim, lpelvic_top_path)"
   ]
  },
  {
   "cell_type": "markdown",
   "metadata": {},
   "source": [
    "### cleaned bones"
   ]
  },
  {
   "cell_type": "code",
   "execution_count": 11,
   "metadata": {},
   "outputs": [],
   "source": [
    "cargen.save_surface ( s1_vertices, s1_faces, o_dim, clean_lpelvis_path )\n",
    "cargen.save_surface ( s2_vertices, s2_faces, o_dim, clean_lfemur_path)"
   ]
  },
  {
   "cell_type": "markdown",
   "metadata": {},
   "source": [
    "# voila!"
   ]
  },
  {
   "cell_type": "code",
   "execution_count": 12,
   "metadata": {
    "scrolled": false
   },
   "outputs": [
    {
     "data": {
      "application/vnd.jupyter.widget-view+json": {
       "model_id": "1ac493bdc426496a9d1e3ad0e22c5e36",
       "version_major": 2,
       "version_minor": 0
      },
      "text/plain": [
       "Renderer(camera=PerspectiveCamera(children=(DirectionalLight(color='white', intensity=0.6, position=(-71.74111…"
      ]
     },
     "metadata": {},
     "output_type": "display_data"
    },
    {
     "data": {
      "text/plain": [
       "3"
      ]
     },
     "execution_count": 12,
     "metadata": {},
     "output_type": "execute_result"
    }
   ],
   "source": [
    "frame = mp.plot ( s1_vertices, s1_faces, c = cargen.bone, shading = cargen.sh_false )\n",
    "frame.add_mesh ( s2_vertices, s2_faces, c = cargen.bone, shading = cargen.sh_false )\n",
    "frame.add_mesh ( s1c_top_vertices, s1c_top_faces, c = cargen.pastel_orange, shading = cargen.sh_true )\n",
    "frame.add_mesh ( s2c_top_vertices, s2c_top_faces, c = cargen.pastel_orange, shading = cargen.sh_true )"
   ]
  }
 ],
 "metadata": {
  "kernelspec": {
   "display_name": "Python 3",
   "language": "python",
   "name": "python3"
  },
  "language_info": {
   "codemirror_mode": {
    "name": "ipython",
    "version": 3
   },
   "file_extension": ".py",
   "mimetype": "text/x-python",
   "name": "python",
   "nbconvert_exporter": "python",
   "pygments_lexer": "ipython3",
   "version": "3.9.6"
  },
  "toc": {
   "base_numbering": 1,
   "nav_menu": {},
   "number_sections": true,
   "sideBar": true,
   "skip_h1_title": false,
   "title_cell": "Table of Contents",
   "title_sidebar": "Contents",
   "toc_cell": false,
   "toc_position": {
    "height": "calc(100% - 180px)",
    "left": "10px",
    "top": "150px",
    "width": "209px"
   },
   "toc_section_display": true,
   "toc_window_display": true
  }
 },
 "nbformat": 4,
 "nbformat_minor": 4
}
