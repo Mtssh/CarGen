{
 "cells": [
  {
   "cell_type": "markdown",
   "metadata": {},
   "source": [
    "# Automated pdl layer generation <a class=\"tocSkip\"> \n",
    "This notebook explains a method to automatically generate the pdl layer based on the bone geometries"
   ]
  },
  {
   "cell_type": "markdown",
   "metadata": {},
   "source": [
    "# imports"
   ]
  },
  {
   "cell_type": "code",
   "execution_count": 1,
   "metadata": {},
   "outputs": [],
   "source": [
    "import numpy as np\n",
    "import meshplot as mp\n",
    "from pathlib import Path\n",
    "import sys\n",
    "sys.path.append('../')\n",
    "import cargen"
   ]
  },
  {
   "cell_type": "code",
   "execution_count": 2,
   "metadata": {},
   "outputs": [],
   "source": [
    "\"\"\"\n",
    "DIRECTORIES:\n",
    "\"\"\"\n",
    "main_dir = Path('..')\n",
    "\n",
    "# input and output paths\n",
    "i_dir = main_dir / 'models'/ 'tooth'\n",
    "o_dir = main_dir / 'output' \n",
    "\n",
    "# Remove all files inside output directory if it exists, otherwise create it\n",
    "if o_dir.is_dir():\n",
    "    for file in o_dir.iterdir():\n",
    "        if file.is_file():\n",
    "            file.unlink()\n",
    "else:\n",
    "    o_dir.mkdir(exist_ok=False)\n",
    "    "
   ]
  },
  {
   "cell_type": "code",
   "execution_count": 3,
   "metadata": {},
   "outputs": [],
   "source": [
    "\"\"\"\n",
    "VALUES:\n",
    "\n",
    "i_dim, o_dim = input and output dimension ( \"mm\" = millimeters, \"m\" = meters )\n",
    "i_format = the format of the input surface mesh ( \".obj\" , \".stl\")\n",
    "o_format = format you want the files to be save at ( \".obj\" , \".stl\" )\n",
    "+ scroll down to calibrate the pdl generation parameters\n",
    "\"\"\"\n",
    "# dimensions \n",
    "i_dim  = \"mm\"     \n",
    "o_dim  = \"mm\"\n",
    "\n",
    "i_format = \".obj\"\n",
    "o_format = \".obj\""
   ]
  },
  {
   "cell_type": "code",
   "execution_count": 4,
   "metadata": {},
   "outputs": [],
   "source": [
    "\"\"\"\n",
    "NAMES & PATHS:\n",
    "\"\"\"\n",
    "# bones\n",
    "bone_name = 'bone'\n",
    "tooth_name  = 'tooth' \n",
    "\n",
    "# cartilages\n",
    "pdl_name = 'pdl'\n",
    "\n",
    "#bones \n",
    "clean_bone_name   = 'clean_' + bone_name  + '_'+ o_dim\n",
    "clean_tooth_name  = 'clean_' + tooth_name + '_'+ o_dim\n",
    "\n",
    "#cartilages\n",
    "pdl_cart_name = pdl_name +'_cart_'+ o_dim\n",
    "pdl_top_name  = pdl_name +'_top_' + o_dim\n",
    "\n",
    "# input paths\n",
    "bone_path  = str((i_dir/ bone_name).with_suffix(i_format))\n",
    "tooth_path = str((i_dir/ tooth_name).with_suffix(i_format))\n",
    "\n",
    "# output paths\n",
    "#bones\n",
    "clean_bone_path   = str((o_dir/ clean_bone_name).with_suffix(o_format))\n",
    "clean_tooth_path  = str((o_dir/ clean_tooth_name).with_suffix(o_format))\n",
    "\n",
    "#cartilage\n",
    "pdl_cart_path  = str((o_dir/ pdl_cart_name).with_suffix(o_format))\n",
    "pdl_top_path   = str((o_dir/ pdl_top_name).with_suffix(o_format))"
   ]
  },
  {
   "cell_type": "markdown",
   "metadata": {},
   "source": [
    "# implementation"
   ]
  },
  {
   "cell_type": "markdown",
   "metadata": {},
   "source": [
    "## read and clean up input"
   ]
  },
  {
   "cell_type": "code",
   "execution_count": 5,
   "metadata": {
    "scrolled": true
   },
   "outputs": [
    {
     "name": "stdout",
     "output_type": "stream",
     "text": [
      "number of triangles after cleaning 141516\n",
      "number of triangles after cleaning 346552\n"
     ]
    }
   ],
   "source": [
    "s1_vertices, s1_faces  = cargen.read_and_clean ( bone_path, i_dim )\n",
    "s2_vertices, s2_faces  = cargen.read_and_clean ( tooth_path, i_dim ) "
   ]
  },
  {
   "cell_type": "code",
   "execution_count": 6,
   "metadata": {
    "scrolled": false
   },
   "outputs": [
    {
     "data": {
      "application/vnd.jupyter.widget-view+json": {
       "model_id": "c3a8ed274c6340f5ac1acf9b3699ef54",
       "version_major": 2,
       "version_minor": 0
      },
      "text/plain": [
       "Renderer(camera=PerspectiveCamera(children=(DirectionalLight(color='white', intensity=0.6, position=(26.925607…"
      ]
     },
     "metadata": {},
     "output_type": "display_data"
    },
    {
     "data": {
      "text/plain": [
       "1"
      ]
     },
     "execution_count": 6,
     "metadata": {},
     "output_type": "execute_result"
    }
   ],
   "source": [
    "frame = mp.plot( s1_vertices, s1_faces, c = cargen.mandible, shading = cargen.sh_false )\n",
    "frame.add_mesh ( s2_vertices, s2_faces, c = cargen.tooth, shading = cargen.sh_false )"
   ]
  },
  {
   "cell_type": "markdown",
   "metadata": {},
   "source": [
    "## pdl layer"
   ]
  },
  {
   "cell_type": "code",
   "execution_count": 7,
   "metadata": {
    "scrolled": false
   },
   "outputs": [
    {
     "data": {
      "image/png": "[encoded data removed]",
      "text/plain": [
       "<Figure size 640x480 with 1 Axes>"
      ]
     },
     "metadata": {},
     "output_type": "display_data"
    },
    {
     "data": {
      "application/vnd.jupyter.widget-view+json": {
       "model_id": "3d06f8c9f7764a0785ae9e66f539c1c1",
       "version_major": 2,
       "version_minor": 0
      },
      "text/plain": [
       "Renderer(camera=PerspectiveCamera(children=(DirectionalLight(color='white', intensity=0.6, position=(26.925607…"
      ]
     },
     "metadata": {},
     "output_type": "display_data"
    },
    {
     "name": "stdout",
     "output_type": "stream",
     "text": [
      "Base layer: max dihedral angle before smoothing is  0.72 radians ( 41.25 degrees).\n"
     ]
    },
    {
     "data": {
      "application/vnd.jupyter.widget-view+json": {
       "model_id": "5425506593524b57a9bd5130c56deefb",
       "version_major": 2,
       "version_minor": 0
      },
      "text/plain": [
       "Renderer(camera=PerspectiveCamera(children=(DirectionalLight(color='white', intensity=0.6, position=(26.925607…"
      ]
     },
     "metadata": {},
     "output_type": "display_data"
    },
    {
     "name": "stdout",
     "output_type": "stream",
     "text": [
      "Base layer: max dihedral angle after smoothing is  3.14 radians ( 179.91 degrees).\n"
     ]
    },
    {
     "data": {
      "application/vnd.jupyter.widget-view+json": {
       "model_id": "f271e3b309dc4618a6579a8c1e779f8a",
       "version_major": 2,
       "version_minor": 0
      },
      "text/plain": [
       "Renderer(camera=PerspectiveCamera(children=(DirectionalLight(color='white', intensity=0.6, position=(26.925607…"
      ]
     },
     "metadata": {},
     "output_type": "display_data"
    },
    {
     "name": "stdout",
     "output_type": "stream",
     "text": [
      "Quality control results for the base layer: \n",
      "\n",
      "- There are issues with these vertex indices [0, 1, 33, 34, 35, 250]\n",
      "- Solution 1: To prevent this issue, decrease your 'param.smoothing_iteration' to  5\n",
      "- Solution 2: By default the faulty triangles will be removed from the face index list \n",
      "\n",
      "faulty vertices & neighbouring triangles:\n"
     ]
    },
    {
     "data": {
      "application/vnd.jupyter.widget-view+json": {
       "model_id": "1b1e8828d53b4802b1a26f4fa551f375",
       "version_major": 2,
       "version_minor": 0
      },
      "text/plain": [
       "Renderer(camera=PerspectiveCamera(children=(DirectionalLight(color='white', intensity=0.6, position=(26.925607…"
      ]
     },
     "metadata": {},
     "output_type": "display_data"
    },
    {
     "name": "stdout",
     "output_type": "stream",
     "text": [
      "The pink triangles will be removed:\n"
     ]
    },
    {
     "data": {
      "application/vnd.jupyter.widget-view+json": {
       "model_id": "29a43dca7aa242c6b5164c48e7ffc719",
       "version_major": 2,
       "version_minor": 0
      },
      "text/plain": [
       "Renderer(camera=PerspectiveCamera(children=(DirectionalLight(color='white', intensity=0.6, position=(26.925607…"
      ]
     },
     "metadata": {},
     "output_type": "display_data"
    },
    {
     "name": "stdout",
     "output_type": "stream",
     "text": [
      "normal visualization of the fixed result:\n"
     ]
    },
    {
     "data": {
      "application/vnd.jupyter.widget-view+json": {
       "model_id": "32f299fb87e741e3a63f2387a56cdf6c",
       "version_major": 2,
       "version_minor": 0
      },
      "text/plain": [
       "Renderer(camera=PerspectiveCamera(children=(DirectionalLight(color='white', intensity=0.6, position=(26.925607…"
      ]
     },
     "metadata": {},
     "output_type": "display_data"
    },
    {
     "name": "stdout",
     "output_type": "stream",
     "text": [
      "Extruded layer: max dihedral angle before smoothing is  3.08 radians ( 176.47 degrees).\n"
     ]
    },
    {
     "data": {
      "application/vnd.jupyter.widget-view+json": {
       "model_id": "6f23101fae0f40a6803635adf9eebcc4",
       "version_major": 2,
       "version_minor": 0
      },
      "text/plain": [
       "Renderer(camera=PerspectiveCamera(children=(DirectionalLight(color='white', intensity=0.6, position=(24.673631…"
      ]
     },
     "metadata": {},
     "output_type": "display_data"
    },
    {
     "name": "stdout",
     "output_type": "stream",
     "text": [
      "Extruded layer: max dihedral angle after smoothing is 3.04 radians ( 174.18 degrees).\n"
     ]
    },
    {
     "data": {
      "application/vnd.jupyter.widget-view+json": {
       "model_id": "1746991be257414cafa6c46a42d16b62",
       "version_major": 2,
       "version_minor": 0
      },
      "text/plain": [
       "Renderer(camera=PerspectiveCamera(children=(DirectionalLight(color='white', intensity=0.6, position=(24.673631…"
      ]
     },
     "metadata": {},
     "output_type": "display_data"
    },
    {
     "name": "stdout",
     "output_type": "stream",
     "text": [
      "Quality control results  for the extruded layer: \n",
      "\n",
      "- There are issues with these vertex indices [216, 217, 218]\n",
      "- Solution 1: To prevent this issue, decrease your 'param.smoothing_iteration' to  0\n",
      "- Solution 2: By default the faulty triangles will be removed from the face index list \n",
      "faulty vertices & neighbouring triangles:\n"
     ]
    },
    {
     "data": {
      "application/vnd.jupyter.widget-view+json": {
       "model_id": "50df4f43be9449b59418ebeeebb9e8ab",
       "version_major": 2,
       "version_minor": 0
      },
      "text/plain": [
       "Renderer(camera=PerspectiveCamera(children=(DirectionalLight(color='white', intensity=0.6, position=(24.673631…"
      ]
     },
     "metadata": {},
     "output_type": "display_data"
    },
    {
     "name": "stdout",
     "output_type": "stream",
     "text": [
      "The pink triangles will be removed:\n"
     ]
    },
    {
     "data": {
      "application/vnd.jupyter.widget-view+json": {
       "model_id": "a6f3b9638dae4139a9fbb7e982aae87d",
       "version_major": 2,
       "version_minor": 0
      },
      "text/plain": [
       "Renderer(camera=PerspectiveCamera(children=(DirectionalLight(color='white', intensity=0.6, position=(24.673631…"
      ]
     },
     "metadata": {},
     "output_type": "display_data"
    },
    {
     "name": "stdout",
     "output_type": "stream",
     "text": [
      "normal visualization of the fixed result:\n"
     ]
    },
    {
     "data": {
      "application/vnd.jupyter.widget-view+json": {
       "model_id": "657b8414eac9428898fafba77b7f7b14",
       "version_major": 2,
       "version_minor": 0
      },
      "text/plain": [
       "Renderer(camera=PerspectiveCamera(children=(DirectionalLight(color='white', intensity=0.6, position=(24.673631…"
      ]
     },
     "metadata": {},
     "output_type": "display_data"
    },
    {
     "data": {
      "application/vnd.jupyter.widget-view+json": {
       "model_id": "a58e4240605049e5aa216a7643849702",
       "version_major": 2,
       "version_minor": 0
      },
      "text/plain": [
       "Renderer(camera=PerspectiveCamera(children=(DirectionalLight(color='white', intensity=0.6, position=(26.925607…"
      ]
     },
     "metadata": {},
     "output_type": "display_data"
    },
    {
     "data": {
      "application/vnd.jupyter.widget-view+json": {
       "model_id": "a85d6048c4db4a80b1087a53dd5542dd",
       "version_major": 2,
       "version_minor": 0
      },
      "text/plain": [
       "Renderer(camera=PerspectiveCamera(children=(DirectionalLight(color='white', intensity=0.6, position=(24.673631…"
      ]
     },
     "metadata": {},
     "output_type": "display_data"
    },
    {
     "data": {
      "application/vnd.jupyter.widget-view+json": {
       "model_id": "4e18ad92d5dd421faf14dabe6b9c32ae",
       "version_major": 2,
       "version_minor": 0
      },
      "text/plain": [
       "Renderer(camera=PerspectiveCamera(children=(DirectionalLight(color='white', intensity=0.6, position=(24.106391…"
      ]
     },
     "metadata": {},
     "output_type": "display_data"
    },
    {
     "data": {
      "application/vnd.jupyter.widget-view+json": {
       "model_id": "9917f67bfdb746cfaf2f21f8a766add1",
       "version_major": 2,
       "version_minor": 0
      },
      "text/plain": [
       "Renderer(camera=PerspectiveCamera(children=(DirectionalLight(color='white', intensity=0.6, position=(26.925607…"
      ]
     },
     "metadata": {},
     "output_type": "display_data"
    },
    {
     "name": "stdout",
     "output_type": "stream",
     "text": [
      "pdl base area is:  234.53\n",
      "mean pdl thickness is:  0.24\n",
      "maximum pdl thickness is:  0.29\n"
     ]
    }
   ],
   "source": [
    "# set the parameters\n",
    "param = cargen.Var()\n",
    "\n",
    "# change the ones you like\n",
    "param.gap_distance = 0.3\n",
    "param.trimming_iteration = 1\n",
    "param.smoothing_iteration_base = 10\n",
    "param.smoothing_iteration_extruded_base = 3\n",
    "param.thickness_factor = 1\n",
    "\n",
    "# make it\n",
    "pdl_vertices, pdl_faces, top_vertices, top_faces = cargen.get_pdl_layer(s1_vertices, s1_faces, \n",
    "                                                                           s2_vertices, s2_faces,\n",
    "                                                                           param)\n",
    "\n",
    "# reset the parameters to default values\n",
    "param.reset()"
   ]
  },
  {
   "cell_type": "markdown",
   "metadata": {},
   "source": [
    "## export results"
   ]
  },
  {
   "cell_type": "markdown",
   "metadata": {},
   "source": [
    "### pdl"
   ]
  },
  {
   "cell_type": "code",
   "execution_count": 8,
   "metadata": {},
   "outputs": [],
   "source": [
    "cargen.save_surface ( pdl_vertices, pdl_faces, o_dim, pdl_cart_path )\n",
    "cargen.save_surface ( top_vertices, top_faces, o_dim, pdl_top_path )"
   ]
  },
  {
   "cell_type": "markdown",
   "metadata": {},
   "source": [
    "### bones"
   ]
  },
  {
   "cell_type": "code",
   "execution_count": 9,
   "metadata": {},
   "outputs": [],
   "source": [
    "cargen.save_surface ( s1_vertices, s1_faces, o_dim, clean_bone_path )\n",
    "cargen.save_surface ( s2_vertices, s2_faces, o_dim, clean_tooth_path)"
   ]
  },
  {
   "cell_type": "markdown",
   "metadata": {},
   "source": [
    "# voila!"
   ]
  },
  {
   "cell_type": "code",
   "execution_count": 10,
   "metadata": {
    "scrolled": false
   },
   "outputs": [
    {
     "data": {
      "application/vnd.jupyter.widget-view+json": {
       "model_id": "a829b7642639496785a8702ff43c5201",
       "version_major": 2,
       "version_minor": 0
      },
      "text/plain": [
       "Renderer(camera=PerspectiveCamera(children=(DirectionalLight(color='white', intensity=0.6, position=(24.755238…"
      ]
     },
     "metadata": {},
     "output_type": "display_data"
    },
    {
     "data": {
      "text/plain": [
       "2"
      ]
     },
     "execution_count": 10,
     "metadata": {},
     "output_type": "execute_result"
    }
   ],
   "source": [
    "frame = mp.plot( pdl_vertices, pdl_faces, c = cargen.organ,  shading = cargen.sh_false )\n",
    "frame.add_mesh ( s1_vertices,  s1_faces,  c = cargen.mandible, shading = cargen.sh_false )\n",
    "frame.add_mesh ( s2_vertices,  s2_faces,  c = cargen.tooth, shading = cargen.sh_false )"
   ]
  }
 ],
 "metadata": {
  "kernelspec": {
   "display_name": "Python 3",
   "language": "python",
   "name": "python3"
  },
  "language_info": {
   "codemirror_mode": {
    "name": "ipython",
    "version": 3
   },
   "file_extension": ".py",
   "mimetype": "text/x-python",
   "name": "python",
   "nbconvert_exporter": "python",
   "pygments_lexer": "ipython3",
   "version": "3.9.6"
  },
  "toc": {
   "base_numbering": 1,
   "nav_menu": {},
   "number_sections": true,
   "sideBar": true,
   "skip_h1_title": false,
   "title_cell": "Table of Contents",
   "title_sidebar": "Contents",
   "toc_cell": false,
   "toc_position": {
    "height": "calc(100% - 180px)",
    "left": "10px",
    "top": "150px",
    "width": "209px"
   },
   "toc_section_display": true,
   "toc_window_display": true
  }
 },
 "nbformat": 4,
 "nbformat_minor": 4
}
