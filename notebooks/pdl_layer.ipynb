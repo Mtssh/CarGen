{
 "cells": [
  {
   "cell_type": "markdown",
   "metadata": {},
   "source": [
    "# Automated pdl layer generation <a class=\"tocSkip\"> \n",
    "This notebook explains a method to automatically generate the hj geometry based on the bone geometries"
   ]
  },
  {
   "cell_type": "markdown",
   "metadata": {},
   "source": [
    "# imports"
   ]
  },
  {
   "cell_type": "code",
   "execution_count": 1,
   "metadata": {},
   "outputs": [],
   "source": [
    "import numpy as np\n",
    "import meshplot as mp\n",
    "import pathlib\n",
    "import sys\n",
    "sys.path.append('../')\n",
    "import cargen"
   ]
  },
  {
   "cell_type": "code",
   "execution_count": 2,
   "metadata": {},
   "outputs": [],
   "source": [
    "\"\"\"\n",
    "DIRECTORIES:\n",
    "\"\"\"\n",
    "main_dir = pathlib.Path('..')\n",
    "\n",
    "# input and output paths\n",
    "i_dir = '/Volumes/RAINBOW-ESR1/jaw-data/input' \n",
    "o_dir = main_dir / 'output'\n",
    "mid_o_dir = main_dir / 'mid_output' \n",
    "\n",
    "# Remove all files inside output directory if it exists, otherwise create it\n",
    "if o_dir.is_dir():\n",
    "    for file in o_dir.iterdir():\n",
    "        if file.is_file():\n",
    "            file.unlink()\n",
    "else:\n",
    "    o_dir.mkdir(exist_ok=False)\n",
    "    \n",
    "if mid_o_dir.is_dir():\n",
    "    for file in mid_o_dir.iterdir():\n",
    "        if file.is_file():\n",
    "            file.unlink()\n",
    "else:\n",
    "    mid_o_dir.mkdir(exist_ok=False)\n",
    " \n",
    "\"\"\"\n",
    "VALUES:\n",
    "\n",
    "i_dim, o_dim = input and output dimension (\"mm\" = millimeters, \"m\" = meters)\n",
    "o_format = format you want the files to be save at ( \".obj\" , \".stl\")\n",
    "+ scroll down to calibrate the cartilage generation parameters\n",
    "\"\"\"\n",
    "# dimensions \n",
    "i_dim  = \"mm\"     \n",
    "o_dim  = \"mm\"\n",
    "o_format = \".stl\""
   ]
  },
  {
   "cell_type": "markdown",
   "metadata": {},
   "source": [
    "# implementation"
   ]
  },
  {
   "cell_type": "markdown",
   "metadata": {},
   "source": [
    "## read and clean up input"
   ]
  },
  {
   "cell_type": "code",
   "execution_count": 3,
   "metadata": {
    "code_folding": []
   },
   "outputs": [],
   "source": [
    "bone_path  = i_dir +\"/\"+ 'bone.stl'\n",
    "tooth_path = i_dir +\"/\"+ 'tooth.stl'\n",
    "pdl_path   = i_dir +\"/\"+ 'PDL.stl'"
   ]
  },
  {
   "cell_type": "code",
   "execution_count": 4,
   "metadata": {
    "scrolled": true
   },
   "outputs": [
    {
     "name": "stdout",
     "output_type": "stream",
     "text": [
      "number of triangles 9562\n",
      "number of triangles 3118\n",
      "number of triangles 25348\n"
     ]
    }
   ],
   "source": [
    "s1_vertices, s1_faces  = cargen.read_and_clean ( bone_path, i_dim )\n",
    "s2_vertices, s2_faces  = cargen.read_and_clean ( tooth_path, i_dim ) \n",
    "s3_vertices, s3_faces  = cargen.read_and_clean ( pdl_path, i_dim ) "
   ]
  },
  {
   "cell_type": "code",
   "execution_count": 5,
   "metadata": {
    "scrolled": false
   },
   "outputs": [
    {
     "data": {
      "application/vnd.jupyter.widget-view+json": {
       "model_id": "ecad431646894b28b9d43e73c41ac246",
       "version_major": 2,
       "version_minor": 0
      },
      "text/plain": [
       "Renderer(camera=PerspectiveCamera(children=(DirectionalLight(color='white', intensity=0.6, position=(-64.55377…"
      ]
     },
     "metadata": {},
     "output_type": "display_data"
    },
    {
     "data": {
      "text/plain": [
       "2"
      ]
     },
     "execution_count": 5,
     "metadata": {},
     "output_type": "execute_result"
    }
   ],
   "source": [
    "frame = mp.plot( s1_vertices, s1_faces, c = cargen.mandible, shading = cargen.sh_false )\n",
    "frame.add_mesh ( s2_vertices, s2_faces, c = cargen.tooth, shading = cargen.sh_false )\n",
    "frame.add_mesh ( s3_vertices, s3_faces, c = cargen.organ, shading = cargen.sh_true )"
   ]
  },
  {
   "cell_type": "markdown",
   "metadata": {},
   "source": [
    "## pdl layer"
   ]
  },
  {
   "cell_type": "code",
   "execution_count": 6,
   "metadata": {
    "scrolled": false
   },
   "outputs": [
    {
     "data": {
      "image/png": "[encoded data removed]",
      "text/plain": [
       "<Figure size 640x480 with 1 Axes>"
      ]
     },
     "metadata": {},
     "output_type": "display_data"
    },
    {
     "data": {
      "application/vnd.jupyter.widget-view+json": {
       "model_id": "5130c31427a44026b41cbdc907c0e76c",
       "version_major": 2,
       "version_minor": 0
      },
      "text/plain": [
       "Renderer(camera=PerspectiveCamera(children=(DirectionalLight(color='white', intensity=0.6, position=(-64.55377…"
      ]
     },
     "metadata": {},
     "output_type": "display_data"
    },
    {
     "data": {
      "application/vnd.jupyter.widget-view+json": {
       "model_id": "27b046701bc64d2f95b8cec67a193cfb",
       "version_major": 2,
       "version_minor": 0
      },
      "text/plain": [
       "Renderer(camera=PerspectiveCamera(children=(DirectionalLight(color='white', intensity=0.6, position=(-64.55377…"
      ]
     },
     "metadata": {},
     "output_type": "display_data"
    },
    {
     "data": {
      "application/vnd.jupyter.widget-view+json": {
       "model_id": "6ed93dc6fb91481e83cbd862c6182bf6",
       "version_major": 2,
       "version_minor": 0
      },
      "text/plain": [
       "Renderer(camera=PerspectiveCamera(children=(DirectionalLight(color='white', intensity=0.6, position=(-64.55377…"
      ]
     },
     "metadata": {},
     "output_type": "display_data"
    },
    {
     "data": {
      "application/vnd.jupyter.widget-view+json": {
       "model_id": "f8779ba39a784cf28a85c6231aa8beee",
       "version_major": 2,
       "version_minor": 0
      },
      "text/plain": [
       "Renderer(camera=PerspectiveCamera(children=(DirectionalLight(color='white', intensity=0.6, position=(-64.15190…"
      ]
     },
     "metadata": {},
     "output_type": "display_data"
    },
    {
     "data": {
      "application/vnd.jupyter.widget-view+json": {
       "model_id": "8e8a025cc1464a1f98f369194d30373d",
       "version_major": 2,
       "version_minor": 0
      },
      "text/plain": [
       "Renderer(camera=PerspectiveCamera(children=(DirectionalLight(color='white', intensity=0.6, position=(-64.55377…"
      ]
     },
     "metadata": {},
     "output_type": "display_data"
    },
    {
     "name": "stdout",
     "output_type": "stream",
     "text": [
      "pdl base area is:  117.04\n",
      "mean pdl thickness is:  0.23\n",
      "maximum pdl thickness is:  0.28\n"
     ]
    }
   ],
   "source": [
    "# set the parameters\n",
    "param = cargen.Var()\n",
    "\n",
    "# change the ones you like\n",
    "param.gap_distance = 0.3\n",
    "param.trimming_iteration = 1\n",
    "param.output_name = \"pdl\"\n",
    "param.smoothing_iteration = 3\n",
    "param.thickness_factor = 1\n",
    "\n",
    "# make it\n",
    "pdl_vertices, pdl_faces, roof_vertices, roof_faces = cargen.get_pdl_layer(s1_vertices, s1_faces, \n",
    "                                                                   s2_vertices, s2_faces,\n",
    "                                                                   param)\n",
    "\n",
    "# export results\n",
    "cargen.save_surface ( pdl_vertices, pdl_faces, o_dim, param.output_name+\"_fullmodel\", o_dir, o_format)\n",
    "cargen.save_surface ( roof_vertices, roof_faces, o_dim, param.output_name+\"_roof\", o_dir, o_format )\n",
    "\n",
    "# reset the parameters to default values\n",
    "param.reset()"
   ]
  },
  {
   "cell_type": "markdown",
   "metadata": {},
   "source": [
    "### export bones"
   ]
  },
  {
   "cell_type": "code",
   "execution_count": 7,
   "metadata": {},
   "outputs": [],
   "source": [
    "if o_dim == \"m\" :\n",
    "    s11_vertices = s1_vertices / 1000\n",
    "    s22_vertices = s2_vertices / 1000   \n",
    "    \n",
    "else :\n",
    "    s11_vertices = s1_vertices \n",
    "    s22_vertices = s2_vertices \n",
    "\n",
    "\n",
    "cargen.save_surface ( s11_vertices, s1_faces, o_dim, \"bone\", o_dir, o_format )\n",
    "cargen.save_surface ( s22_vertices, s2_faces, o_dim, \"tooth\", o_dir, o_format )"
   ]
  },
  {
   "cell_type": "markdown",
   "metadata": {},
   "source": [
    "# voila!"
   ]
  },
  {
   "cell_type": "code",
   "execution_count": 8,
   "metadata": {
    "scrolled": false
   },
   "outputs": [
    {
     "data": {
      "application/vnd.jupyter.widget-view+json": {
       "model_id": "a46ce4d40dd141918800611d2d2030b2",
       "version_major": 2,
       "version_minor": 0
      },
      "text/plain": [
       "Renderer(camera=PerspectiveCamera(children=(DirectionalLight(color='white', intensity=0.6, position=(-64.39069…"
      ]
     },
     "metadata": {},
     "output_type": "display_data"
    },
    {
     "data": {
      "application/vnd.jupyter.widget-view+json": {
       "model_id": "82bc0da4391d40a099b51084354e956a",
       "version_major": 2,
       "version_minor": 0
      },
      "text/plain": [
       "Renderer(camera=PerspectiveCamera(children=(DirectionalLight(color='white', intensity=0.6, position=(-64.38319…"
      ]
     },
     "metadata": {},
     "output_type": "display_data"
    },
    {
     "data": {
      "text/plain": [
       "2"
      ]
     },
     "execution_count": 8,
     "metadata": {},
     "output_type": "execute_result"
    }
   ],
   "source": [
    "# previous version\n",
    "frame = mp.plot ( s3_vertices, s3_faces, c = cargen.organ,    shading = cargen.sh_false )\n",
    "frame.add_mesh  ( s1_vertices, s1_faces, c = cargen.mandible, shading = cargen.sh_false )\n",
    "\n",
    "# this method\n",
    "frame2 = mp.plot( pdl_vertices, pdl_faces, c = cargen.organ,  shading = cargen.sh_false )\n",
    "frame2.add_mesh ( s1_vertices,  s1_faces,  c = cargen.mandible, shading = cargen.sh_false )\n",
    "frame2.add_mesh ( s2_vertices,  s2_faces,  c = cargen.tooth, shading = cargen.sh_false )"
   ]
  }
 ],
 "metadata": {
  "kernelspec": {
   "display_name": "Python 3",
   "language": "python",
   "name": "python3"
  },
  "language_info": {
   "codemirror_mode": {
    "name": "ipython",
    "version": 3
   },
   "file_extension": ".py",
   "mimetype": "text/x-python",
   "name": "python",
   "nbconvert_exporter": "python",
   "pygments_lexer": "ipython3",
   "version": "3.9.6"
  },
  "toc": {
   "base_numbering": 1,
   "nav_menu": {},
   "number_sections": true,
   "sideBar": true,
   "skip_h1_title": false,
   "title_cell": "Table of Contents",
   "title_sidebar": "Contents",
   "toc_cell": false,
   "toc_position": {
    "height": "calc(100% - 180px)",
    "left": "10px",
    "top": "150px",
    "width": "209px"
   },
   "toc_section_display": true,
   "toc_window_display": true
  }
 },
 "nbformat": 4,
 "nbformat_minor": 4
}
